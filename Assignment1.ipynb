{
  "cells": [
    {
      "cell_type": "code",
      "source": [],
      "metadata": {
        "id": "8iH7kW3Ic6Ff"
      },
      "execution_count": null,
      "outputs": []
    },
    {
      "cell_type": "markdown",
      "source": [
        "# Q>Explain the key features of Python that make it a popular choice for programming?\n",
        "\n",
        "Ans:Python is a high-level, interpreted programming language.Which is a computer programming language that is frequently used to create websites and applications,automate operations, and analyze data. Python is a general-purpose programming language, which means it can be used to develop a wide range of applications and is not specialized for any particular problem.Some of the key features of Python are\n",
        "\n",
        "1.  Easy to use and learn\n",
        "2.  Multi-Paradigm\n",
        "3.  Open Source\n",
        "4.  Large Standard Library\n",
        "5.  Object-Oriented Programming Language\n",
        "6.  Dynamically Typed\n",
        "7.  Large Community Support\n",
        "8.  Easy to Debug\n",
        "9.  Third-Party Libraries\n",
        "10. Platform Independent\n",
        "11. Frontend and backend development\n",
        "12. Easy to Debug\n",
        "13. GUI Programming Support\n",
        "\n",
        "\n",
        "\n",
        "\n",
        "\n",
        "\n"
      ],
      "metadata": {
        "id": "XBOIeYKkhYhD"
      }
    },
    {
      "cell_type": "code",
      "source": [],
      "metadata": {
        "id": "2dI9EeAlkZSQ"
      },
      "execution_count": null,
      "outputs": []
    },
    {
      "cell_type": "markdown",
      "source": [
        "#Q>Describe the role of predefined keywords in Python and provide examples of how they are used in a programme?\n",
        "\n",
        "Python Keywords are some predefined and reserved words in Python that have special meanings. Keywords are used to define the syntax of the coding. The keyword cannot be used as an identifier, function, or variable name. All the keywords in Python are written in lowercase except True and False.Here are some keywords and their examples used in python. Below in code section i have given some of used cases\n",
        "\n",
        "\n"
      ],
      "metadata": {
        "id": "inYspQ2TmFPC"
      }
    },
    {
      "cell_type": "code",
      "source": [
        "''' This is the Example of predefined keywords in Python'''\n",
        "# and operator\n",
        "a=10\n",
        "a>4 and a<=10\n",
        "# or operator\n",
        "a=17\n",
        "a>4 or a<=10\n",
        "# not operator\n",
        "a=17\n",
        "not(a>4)\n",
        "# if statement\n",
        "a=17\n",
        "if(a>4):\n",
        "  print(\"a is greater than 4\")\n",
        "# else statement\n",
        "a=17\n",
        "if(a>4):\n",
        "  print(\"a is greater than 4\")\n",
        "else:\n",
        "  print(\"a is not greater than 4\")\n"
      ],
      "metadata": {
        "id": "ehfDICxpohlP"
      },
      "execution_count": null,
      "outputs": []
    },
    {
      "cell_type": "code",
      "source": [
        "#Example of Immutable object\n",
        "a=6\n",
        "b='Araya'\n",
        "b[2]\n",
        "#b[3]='s' this is best example of immutable where string can't be replace\n",
        "\n"
      ],
      "metadata": {
        "id": "K-jIHyjtvYcz",
        "outputId": "3e977d2f-9807-4d00-a4d3-2cc5f21612a9",
        "colab": {
          "base_uri": "https://localhost:8080/",
          "height": 35
        }
      },
      "execution_count": 75,
      "outputs": [
        {
          "output_type": "execute_result",
          "data": {
            "text/plain": [
              "'a'"
            ],
            "application/vnd.google.colaboratory.intrinsic+json": {
              "type": "string"
            }
          },
          "metadata": {},
          "execution_count": 75
        }
      ]
    },
    {
      "cell_type": "markdown",
      "source": [
        "#Q>Compare and contrast mutable and immutable objects in Python with examples?\n",
        "\n",
        "Ans:Object/Container whose state or value can be changed after they are created are called mutable objects.Mutability affects how objects are stored and manipulated in memory, impacting performance, memory usage, and concurrency in Python programs. Mutable objects, such as lists and dictionaries can be modified after creation\n",
        "\n",
        "Object/Container whose state or value can't be changed after they are created are called immutable objects.immutable objects, such as tuples and strings cannot be modified after creation.\n",
        "\n",
        "Below code section i have given example of mutable and immutable objects.\n",
        "\n",
        "\n"
      ],
      "metadata": {
        "id": "HvbfHCyBta60"
      }
    },
    {
      "cell_type": "code",
      "source": [
        "#Example of mutable object\n",
        "list_cont=[1,2,3,4,'araya','true',3+5j]\n",
        "list_cont[2]=8\n",
        "print(list_cont)"
      ],
      "metadata": {
        "id": "sDriR5QAwq3V",
        "outputId": "942aa3fa-e9b2-4c74-de44-4bfa30fc4417",
        "colab": {
          "base_uri": "https://localhost:8080/"
        }
      },
      "execution_count": 76,
      "outputs": [
        {
          "output_type": "stream",
          "name": "stdout",
          "text": [
            "[1, 2, 8, 4, 'araya', 'true', (3+5j)]\n"
          ]
        }
      ]
    },
    {
      "cell_type": "markdown",
      "source": [
        "#Q>Discuss the different types of operators in Python and provide examples of how they are used?\n",
        "\n",
        "Ans:Operators are used to perform operations on variables and values.Python divides the operators in the following groups:\n",
        "\n",
        "Arithmetic operators\n",
        "Assignment operators\n",
        "Comparison operators\n",
        "Logical operators\n",
        "Identity operators\n",
        "Membership operators\n",
        "Bitwise operators"
      ],
      "metadata": {
        "id": "5h0WNBRNyAAp"
      }
    },
    {
      "cell_type": "code",
      "source": [
        "# Arithmatic Operator\n",
        "a=5\n",
        "b=10\n",
        "a+b\n",
        "a-b\n",
        "a*b\n",
        "a/b\n",
        "a%b\n",
        "a//b"
      ],
      "metadata": {
        "id": "-FamX0iFzNMU",
        "outputId": "ee0346b9-b9e1-4675-c913-6c3236fabd73",
        "colab": {
          "base_uri": "https://localhost:8080/"
        }
      },
      "execution_count": 81,
      "outputs": [
        {
          "output_type": "execute_result",
          "data": {
            "text/plain": [
              "0"
            ]
          },
          "metadata": {},
          "execution_count": 81
        }
      ]
    },
    {
      "cell_type": "code",
      "source": [
        "#comparison operator\n",
        "a=5\n",
        "b=10\n",
        "a>b\n",
        "a<b\n",
        "a>=b\n",
        "a<=b\n",
        "a==b\n",
        "a!=b"
      ],
      "metadata": {
        "id": "4n1UkY-9zwov"
      },
      "execution_count": null,
      "outputs": []
    },
    {
      "cell_type": "code",
      "source": [
        "#logical operator\n",
        "a=5\n",
        "b=10\n",
        "a>b and a<b\n",
        "a>b or a<b\n",
        "not(a>b)"
      ],
      "metadata": {
        "id": "SrulnFkUz9I1"
      },
      "execution_count": null,
      "outputs": []
    },
    {
      "cell_type": "code",
      "source": [
        "#assignment operator\n",
        "a=5\n",
        "b=10\n",
        "a+=b\n",
        "a-=b\n",
        "a*=b\n",
        "a/=b\n",
        "a%=b\n",
        "a//=b\n",
        "a**=b"
      ],
      "metadata": {
        "id": "N8zFB-0_0DXI"
      },
      "execution_count": 95,
      "outputs": []
    },
    {
      "cell_type": "code",
      "source": [
        "#bitwise operator\n",
        "a=5\n",
        "b=10\n",
        "a&b\n",
        "a|b\n",
        "a^b\n",
        "a>>b\n",
        "a<<b"
      ],
      "metadata": {
        "id": "-T5ZgbyC0bi6",
        "outputId": "756cc3b8-fa3e-4f8c-b5f1-766329922163",
        "colab": {
          "base_uri": "https://localhost:8080/"
        }
      },
      "execution_count": 92,
      "outputs": [
        {
          "output_type": "execute_result",
          "data": {
            "text/plain": [
              "5120"
            ]
          },
          "metadata": {},
          "execution_count": 92
        }
      ]
    },
    {
      "cell_type": "code",
      "source": [
        "#membership operator\n",
        "a=[10,'araya','rahul','kumar']\n",
        "'araya' in a\n",
        "'araya' not in a\n",
        "\n",
        "b='sun'\n",
        "'u' in b"
      ],
      "metadata": {
        "id": "NLGc0Zyy0om1",
        "outputId": "24d1481c-31a8-439d-c5a2-a4916b878e77",
        "colab": {
          "base_uri": "https://localhost:8080/"
        }
      },
      "execution_count": 90,
      "outputs": [
        {
          "output_type": "execute_result",
          "data": {
            "text/plain": [
              "True"
            ]
          },
          "metadata": {},
          "execution_count": 90
        }
      ]
    },
    {
      "cell_type": "code",
      "source": [
        "#identity operator\n",
        "a=5\n",
        "b=10\n",
        "a is b\n",
        "a is not b"
      ],
      "metadata": {
        "id": "XYrMJ12O2GGc",
        "outputId": "3fd1c817-02ca-4630-96b0-90288181e93f",
        "colab": {
          "base_uri": "https://localhost:8080/"
        }
      },
      "execution_count": 91,
      "outputs": [
        {
          "output_type": "execute_result",
          "data": {
            "text/plain": [
              "True"
            ]
          },
          "metadata": {},
          "execution_count": 91
        }
      ]
    },
    {
      "cell_type": "markdown",
      "source": [
        "#Q>Explain the concept of type casting in Python with examples?\n",
        "\n",
        "Ans:Type Casting is the method to convert the Python variable datatype into a certain data type in order to perform the required operation by users.Type Casting in Python:\n",
        "1. Implicit Type Conversion\n",
        "2. Explicit Type Conversion\n",
        "\n",
        "Implicit Type Conversion:>>\n",
        "In this, method, Python converts the datatype into another datatype automatically. Users don't have to involve in this process.\n",
        "\n",
        "Explicit Type Conversion:>>\n",
        "In this method, Python needs user involvement to convert the variable data type into the required data type.\n"
      ],
      "metadata": {
        "id": "bhqdkwj82egP"
      }
    },
    {
      "cell_type": "code",
      "source": [
        "#Example of Implicit Type Conversion\n",
        "\n",
        "a=5\n",
        "b=10.5\n",
        "c=a+b\n",
        "print(c)\n",
        "print(type(c))\n",
        "\n",
        "a=5\n",
        "b='8'\n",
        "c=a+b\n",
        "print(c)\n",
        "print(type(c)) # here python couldn't change the required data type to int"
      ],
      "metadata": {
        "id": "O6iH1ihS5YGT",
        "outputId": "2804e5de-12f6-4d9f-b9e0-99764074ff93",
        "colab": {
          "base_uri": "https://localhost:8080/",
          "height": 245
        }
      },
      "execution_count": 98,
      "outputs": [
        {
          "output_type": "stream",
          "name": "stdout",
          "text": [
            "15.5\n",
            "<class 'float'>\n"
          ]
        },
        {
          "output_type": "error",
          "ename": "TypeError",
          "evalue": "unsupported operand type(s) for +: 'int' and 'str'",
          "traceback": [
            "\u001b[0;31m---------------------------------------------------------------------------\u001b[0m",
            "\u001b[0;31mTypeError\u001b[0m                                 Traceback (most recent call last)",
            "\u001b[0;32m<ipython-input-98-91034d9d4bdb>\u001b[0m in \u001b[0;36m<cell line: 11>\u001b[0;34m()\u001b[0m\n\u001b[1;32m      9\u001b[0m \u001b[0ma\u001b[0m\u001b[0;34m=\u001b[0m\u001b[0;36m5\u001b[0m\u001b[0;34m\u001b[0m\u001b[0;34m\u001b[0m\u001b[0m\n\u001b[1;32m     10\u001b[0m \u001b[0mb\u001b[0m\u001b[0;34m=\u001b[0m\u001b[0;34m'8'\u001b[0m\u001b[0;34m\u001b[0m\u001b[0;34m\u001b[0m\u001b[0m\n\u001b[0;32m---> 11\u001b[0;31m \u001b[0mc\u001b[0m\u001b[0;34m=\u001b[0m\u001b[0ma\u001b[0m\u001b[0;34m+\u001b[0m\u001b[0mb\u001b[0m\u001b[0;34m\u001b[0m\u001b[0;34m\u001b[0m\u001b[0m\n\u001b[0m\u001b[1;32m     12\u001b[0m \u001b[0mprint\u001b[0m\u001b[0;34m(\u001b[0m\u001b[0mc\u001b[0m\u001b[0;34m)\u001b[0m\u001b[0;34m\u001b[0m\u001b[0;34m\u001b[0m\u001b[0m\n\u001b[1;32m     13\u001b[0m \u001b[0mprint\u001b[0m\u001b[0;34m(\u001b[0m\u001b[0mtype\u001b[0m\u001b[0;34m(\u001b[0m\u001b[0mc\u001b[0m\u001b[0;34m)\u001b[0m\u001b[0;34m)\u001b[0m\u001b[0;34m\u001b[0m\u001b[0;34m\u001b[0m\u001b[0m\n",
            "\u001b[0;31mTypeError\u001b[0m: unsupported operand type(s) for +: 'int' and 'str'"
          ]
        }
      ]
    },
    {
      "cell_type": "code",
      "source": [
        "#Example of explicit Type Conversion\n",
        "a=5\n",
        "b='8'\n",
        "c=a+int(b)\n",
        "print(c)\n",
        "print(type(c))\n"
      ],
      "metadata": {
        "id": "1WepBBhz6HDn",
        "outputId": "380893de-1139-4427-cd21-beb45a28e219",
        "colab": {
          "base_uri": "https://localhost:8080/"
        }
      },
      "execution_count": 101,
      "outputs": [
        {
          "output_type": "stream",
          "name": "stdout",
          "text": [
            "13\n",
            "<class 'int'>\n"
          ]
        }
      ]
    },
    {
      "cell_type": "markdown",
      "source": [
        "#Q>How do conditional statements work in Python? Illustrate with examples?\n",
        "\n",
        "Ans:Conditional Statements are statements in Python that provide a choice for the control flow based on a condition. It means that the control flow of the Python program will be decided based on the outcome of the condition.There are different types of conditional statements here are some examples given in code section\n"
      ],
      "metadata": {
        "id": "XMOyEe6P7AmN"
      }
    },
    {
      "cell_type": "code",
      "source": [
        "#If Conditional Statement in Python\n",
        "a=10\n",
        "b=5\n",
        "if a>b:\n",
        "  print('a is greater than b')"
      ],
      "metadata": {
        "id": "8BmrHvtr7w4p",
        "outputId": "e025fa2a-486d-405d-a0a7-16f9070ccb18",
        "colab": {
          "base_uri": "https://localhost:8080/"
        }
      },
      "execution_count": 102,
      "outputs": [
        {
          "output_type": "stream",
          "name": "stdout",
          "text": [
            "a is greater than b\n"
          ]
        }
      ]
    },
    {
      "cell_type": "code",
      "source": [
        "#If else Conditional Statements in Python\n",
        "a=1\n",
        "b=5\n",
        "if a>b:\n",
        "  print('a is grater than b')\n",
        "else:\n",
        "    print('a is less than b')"
      ],
      "metadata": {
        "id": "BherlGz68Gjt",
        "outputId": "648e3b49-5bf8-4074-9d12-3a6e54f982ed",
        "colab": {
          "base_uri": "https://localhost:8080/"
        }
      },
      "execution_count": 105,
      "outputs": [
        {
          "output_type": "stream",
          "name": "stdout",
          "text": [
            "a is less than b\n"
          ]
        }
      ]
    },
    {
      "cell_type": "code",
      "source": [
        "# Nested if..else Conditional Statements in Python\n",
        "a=10\n",
        "b=5\n",
        "if a>b:\n",
        "  print('a is grater than b')\n",
        "elif a==b:\n",
        "  print('a is equal to b')\n",
        "else:\n",
        "  print('a is less than b')\n"
      ],
      "metadata": {
        "id": "bzqLlIvk855d",
        "outputId": "92809c3b-f5a7-401b-fb9a-da29675c1726",
        "colab": {
          "base_uri": "https://localhost:8080/"
        }
      },
      "execution_count": 106,
      "outputs": [
        {
          "output_type": "stream",
          "name": "stdout",
          "text": [
            "a is grater than b\n"
          ]
        }
      ]
    },
    {
      "cell_type": "markdown",
      "source": [
        "#Q>Describe the different types of loops in Python and their use cases with examples?\n",
        "\n",
        "Ans:A loop is a control flow statement in Python that allows you to execute a piece of code repeatedly until a specific condition is met. Loops are necessary for operations that require repetitive execution, such as iterating through a Python list of items or doing calculations many times.\n",
        "while loop\n",
        "for loop\n"
      ],
      "metadata": {
        "id": "7zWcdqw19LJ2"
      }
    },
    {
      "cell_type": "code",
      "source": [
        "# Example of While loop\n",
        "count = 0\n",
        "while (count < 10):\n",
        " print ('The count is:', count)\n",
        " count = count + 1\n",
        "print (\"Count Finished\")"
      ],
      "metadata": {
        "id": "7srG9KD--sry",
        "outputId": "9adb3595-43c5-4ba4-e7be-12277e67ada7",
        "colab": {
          "base_uri": "https://localhost:8080/"
        }
      },
      "execution_count": 108,
      "outputs": [
        {
          "output_type": "stream",
          "name": "stdout",
          "text": [
            "The count is: 0\n",
            "The count is: 1\n",
            "The count is: 2\n",
            "The count is: 3\n",
            "The count is: 4\n",
            "The count is: 5\n",
            "The count is: 6\n",
            "The count is: 7\n",
            "The count is: 8\n",
            "The count is: 9\n",
            "Count Finished\n"
          ]
        }
      ]
    },
    {
      "cell_type": "code",
      "source": [
        "# example of for loop\n",
        "for i in range(5):\n",
        "  for j in range(i+1):\n",
        "    print('*',end='')\n",
        "  print()"
      ],
      "metadata": {
        "id": "XPTjjpeP_FEi",
        "outputId": "d1cf78c7-635b-4273-94cb-973445f049ab",
        "colab": {
          "base_uri": "https://localhost:8080/"
        }
      },
      "execution_count": 110,
      "outputs": [
        {
          "output_type": "stream",
          "name": "stdout",
          "text": [
            "*\n",
            "**\n",
            "***\n",
            "****\n",
            "*****\n"
          ]
        }
      ]
    }
  ],
  "metadata": {
    "colab": {
      "name": "Welcome To Colab",
      "toc_visible": true,
      "provenance": []
    },
    "kernelspec": {
      "display_name": "Python 3",
      "name": "python3"
    }
  },
  "nbformat": 4,
  "nbformat_minor": 0
}